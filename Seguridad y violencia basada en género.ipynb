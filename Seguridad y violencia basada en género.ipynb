{
 "cells": [
  {
   "cell_type": "markdown",
   "metadata": {},
   "source": [
    "# Datos del Ministerio del Interior 2018\n",
    "## Seguridad y violencia basada en género\n",
    "\n",
    "https://catalogodatos.gub.uy/dataset/seguridad_y_violencia_en_genero_ministerio_interior"
   ]
  },
  {
   "cell_type": "code",
   "execution_count": null,
   "metadata": {},
   "outputs": [],
   "source": [
    "import pandas as pd\n",
    "import matplotlib.pyplot as plt\n",
    "\n",
    "plt.rcParams['figure.figsize'] = [12, 5]"
   ]
  },
  {
   "cell_type": "code",
   "execution_count": null,
   "metadata": {},
   "outputs": [],
   "source": [
    "df = pd.read_csv('homicidios-domsticos-a-mujeres.csv',encoding = \"ISO-8859-1\")"
   ]
  },
  {
   "cell_type": "code",
   "execution_count": null,
   "metadata": {},
   "outputs": [],
   "source": [
    "def fix_situacion(sit):\n",
    "    if sit=='Formalizada':\n",
    "        return 'Formalizado'\n",
    "    return sit\n",
    "\n",
    "def fix_fecha(mes):\n",
    "    arr = ['Enero', 'Febrero', 'Marzo', 'Abril', 'Mayo', 'Junio', 'Julio', 'Agosto', 'Setiembre', \n",
    "           'Octubre', 'Noviembre', 'Diciembre']\n",
    "    \n",
    "    m = \"{:02d}\".format(arr.index(mes)+1)\n",
    "\n",
    "    return '2018-{}'.format(m)\n",
    "\n",
    "df['situacion_victimario'] = df['Situación del victimario'].apply(lambda x: fix_situacion(x))\n",
    "df['fecha'] = df['Mes'].apply(lambda x: fix_fecha(x)) \n",
    "df.drop(columns=['Situación del victimario', 'Mes'],inplace=True)\n",
    "df.head(2)"
   ]
  },
  {
   "cell_type": "code",
   "execution_count": null,
   "metadata": {},
   "outputs": [],
   "source": [
    "df.groupby('fecha').size().plot.bar(title='Cant. femicidios por fecha')"
   ]
  },
  {
   "cell_type": "code",
   "execution_count": null,
   "metadata": {},
   "outputs": [],
   "source": [
    "df.groupby('Departamento').size().sort_values(ascending=False).plot.bar(title='Agrupados por departamento')"
   ]
  },
  {
   "cell_type": "code",
   "execution_count": null,
   "metadata": {},
   "outputs": [],
   "source": [
    "df.groupby('Identidad de género de la víctima').size().plot.bar(title='Victima')"
   ]
  },
  {
   "cell_type": "code",
   "execution_count": null,
   "metadata": {},
   "outputs": [],
   "source": [
    "df.groupby('Identidad de género del victimario').size().plot.bar(title='Victimario')"
   ]
  },
  {
   "cell_type": "code",
   "execution_count": null,
   "metadata": {},
   "outputs": [],
   "source": [
    "df[df['Identidad de género del victimario'] == 'Mujer cis']"
   ]
  },
  {
   "cell_type": "code",
   "execution_count": null,
   "metadata": {},
   "outputs": [],
   "source": [
    "df.groupby('Tipo de arma empleada').size().sort_values(ascending=False).plot.bar(title='Arma')"
   ]
  },
  {
   "cell_type": "code",
   "execution_count": null,
   "metadata": {},
   "outputs": [],
   "source": [
    "df.groupby('Tipo de vínculo').size().plot.bar(title='Vínculo')"
   ]
  },
  {
   "cell_type": "code",
   "execution_count": null,
   "metadata": {},
   "outputs": [],
   "source": [
    "df.groupby('Lugar del hecho').size().plot.bar()"
   ]
  },
  {
   "cell_type": "code",
   "execution_count": null,
   "metadata": {},
   "outputs": [],
   "source": [
    "df.groupby('situacion_victimario').size().plot.bar()"
   ]
  },
  {
   "cell_type": "code",
   "execution_count": null,
   "metadata": {},
   "outputs": [],
   "source": [
    "df['Edad de la víctima'].hist()"
   ]
  },
  {
   "cell_type": "code",
   "execution_count": null,
   "metadata": {},
   "outputs": [],
   "source": [
    "df['Edad del victimario'].hist()"
   ]
  },
  {
   "cell_type": "code",
   "execution_count": null,
   "metadata": {},
   "outputs": [],
   "source": [
    "df2 = pd.read_csv('delitos-sexuales-por-edad-y-ao.csv',encoding = \"ISO-8859-1\", index_col='Edad')\n",
    "df2 = df2[df2.index < 50]"
   ]
  },
  {
   "cell_type": "code",
   "execution_count": null,
   "metadata": {},
   "outputs": [],
   "source": [
    "def add_columns(row, genero):\n",
    "    if genero == 'varones':\n",
    "        return row['Abuso sexual varones'] + row['Abuso sexual especialmente agravado varones'] + row['Abuso sexual sin contacto corporal varones']\n",
    "    else:\n",
    "        return row['Abuso sexual mujeres'] + row['Abuso sexual especialmente agravado mujeres'] + row['Abuso sexual sin contacto corporal mujeres']\n",
    "\n",
    "df2['abuso_sexual_varones'] = df2.apply(lambda row: add_columns(row, 'varones'),axis=1)\n",
    "df2['abuso_sexual_mujeres'] = df2.apply(lambda row: add_columns(row, 'mujeres'),axis=1)"
   ]
  },
  {
   "cell_type": "code",
   "execution_count": null,
   "metadata": {},
   "outputs": [],
   "source": [
    "df2.plot.line(y=['abuso_sexual_mujeres','abuso_sexual_varones'])"
   ]
  },
  {
   "cell_type": "code",
   "execution_count": null,
   "metadata": {},
   "outputs": [],
   "source": [
    "df2.plot.line(y=['Violación mujeres','Violación varones'])"
   ]
  },
  {
   "cell_type": "code",
   "execution_count": null,
   "metadata": {},
   "outputs": [],
   "source": [
    "df3 = pd.read_csv('delitos-sexuales-por-departamento-y-ao.csv',encoding = \"ISO-8859-1\")\n",
    "df3.head()"
   ]
  },
  {
   "cell_type": "code",
   "execution_count": null,
   "metadata": {},
   "outputs": [],
   "source": [
    "df4 = pd.read_csv('violencia-domestica-y-asociados-por-departamento-y-ao.csv',encoding = \"ISO-8859-1\")\n",
    "df4.head()"
   ]
  },
  {
   "cell_type": "code",
   "execution_count": null,
   "metadata": {},
   "outputs": [],
   "source": []
  }
 ],
 "metadata": {
  "kernelspec": {
   "display_name": "Python 3",
   "language": "python",
   "name": "python3"
  },
  "language_info": {
   "codemirror_mode": {
    "name": "ipython",
    "version": 3
   },
   "file_extension": ".py",
   "mimetype": "text/x-python",
   "name": "python",
   "nbconvert_exporter": "python",
   "pygments_lexer": "ipython3",
   "version": "3.7.2"
  }
 },
 "nbformat": 4,
 "nbformat_minor": 2
}
